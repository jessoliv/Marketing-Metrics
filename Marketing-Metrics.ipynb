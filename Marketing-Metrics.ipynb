{
    "metadata": {
        "kernelspec": {
            "name": "SQL",
            "display_name": "SQL",
            "language": "sql"
        },
        "language_info": {
            "name": "sql",
            "version": ""
        }
    },
    "nbformat_minor": 2,
    "nbformat": 4,
    "cells": [
        {
            "cell_type": "markdown",
            "source": [
                "# Marketing Metrics\n",
                "\n",
                "Using SQL to gather insights on the current state of the sales funnel. Turned into a weekly dashboard to present to the marketing team."
            ],
            "metadata": {
                "azdata_cell_guid": "04fd372d-d055-425c-9aa9-8e13873681eb"
            },
            "attachments": {}
        },
        {
            "cell_type": "markdown",
            "source": [
                "## **Opportunities**\n",
                "\n",
                "Explore the opportunities table\n",
                "\n",
                "**Opportunities that have Account Rank of \"A\"**"
            ],
            "metadata": {
                "azdata_cell_guid": "a5ba38ad-ca19-4ba6-8c9b-11738e88385b"
            },
            "attachments": {}
        },
        {
            "cell_type": "code",
            "source": [
                "/* Return all the opportunities where the related account has an account rank of \"A\" */\n",
                "SELECT opportunity_type, opportunity_id, close_date\n",
                "FROM Opportunities\n",
                "WHERE account_id IN (SELECT account_id FROM Accounts WHERE account_rank = 'A')\n",
                "ORDER BY opportunity_type"
            ],
            "metadata": {
                "azdata_cell_guid": "26c29f4b-4522-4a9c-bca2-49d839211ff6",
                "language": "sql",
                "tags": []
            },
            "outputs": [],
            "execution_count": null
        },
        {
            "cell_type": "markdown",
            "source": [
                "**Ranking Upsell Booking Opportunities by Projected ACV**"
            ],
            "metadata": {
                "language": "sql",
                "azdata_cell_guid": "dcfc78c9-8b05-4ee0-9a53-501a661bc0a7"
            },
            "attachments": {}
        },
        {
            "cell_type": "code",
            "source": [
                "/* Ranking Upsell Booking Opportunities by Projected ACV */\n",
                "SELECT opportunity_id, projected_acv, \n",
                "       RANK() OVER (ORDER BY projected_acv DESC) AS projected_acv_rank\n",
                "FROM Opportunities\n",
                "WHERE opportunity_type LIKE 'Upsell Booking%';"
            ],
            "metadata": {
                "language": "sql",
                "azdata_cell_guid": "33d0716e-0317-409f-ad7d-7cf428e7b18c"
            },
            "outputs": [],
            "execution_count": null
        },
        {
            "cell_type": "markdown",
            "source": [
                "## **Direct New Booking Pipeline**\n",
                "\n",
                "**Total Direct New Booking Pipeline Coverage for Q3 2023** \n",
                "\n",
                "_Shows the sum of projected average contract value for all direct new booking opportunities that are still open and have a close date in Q3 2023_"
            ],
            "metadata": {
                "azdata_cell_guid": "9ee90ec5-363a-49af-9013-91ff664f6fe6"
            },
            "attachments": {}
        },
        {
            "cell_type": "code",
            "source": [
                "/* Direct New Booking Pipeline Coverage for Q3 2023 */\n",
                "SELECT \n",
                "    SUM(projected_acv) as sum_acv\n",
                "FROM Opportunities\n",
                "WHERE \n",
                "    opportunity_type LIKE 'New Booking%' \n",
                "    AND customer_type = 'Direct' \n",
                "    AND stage <> 'Closed - Won' \n",
                "    AND stage <> 'Closed - Lost' \n",
                "    AND DATEPART(QUARTER, close_date) = 3 \n",
                "    AND YEAR(close_date) = YEAR(CURRENT_TIMESTAMP)"
            ],
            "metadata": {
                "azdata_cell_guid": "e03a7961-6846-4899-b8a4-464bd6cb82a1",
                "language": "sql",
                "tags": []
            },
            "outputs": [],
            "execution_count": null
        },
        {
            "cell_type": "markdown",
            "source": [
                "**Direct New Booking Pipeline Coverage for Q3 2023 by Stage**\n",
                "\n",
                "_Shows the sum of direct new booking pipeline by stage and the number of opportunities in each stage_"
            ],
            "metadata": {
                "azdata_cell_guid": "71d73fe4-91da-463e-bd0e-96f8e130f77d"
            },
            "attachments": {}
        },
        {
            "cell_type": "code",
            "source": [
                "/* Direct New Booking Pipeline Coverage for Q3 2023 by Stage */\n",
                "SELECT \n",
                "    stage, \n",
                "    SUM(projected_acv) AS sum_acv,\n",
                "    COUNT(*) AS num_records\n",
                "FROM Opportunities\n",
                "WHERE \n",
                "    opportunity_type LIKE 'New Booking%' \n",
                "    AND customer_type = 'Direct' \n",
                "    AND stage <> 'Closed - Won' \n",
                "    AND stage <> 'Closed - Lost' \n",
                "    AND DATEPART(QUARTER, close_date) = 3 \n",
                "    AND YEAR(close_date) = YEAR(CURRENT_TIMESTAMP)\n",
                "GROUP BY stage"
            ],
            "metadata": {
                "azdata_cell_guid": "ced2b16f-5369-43a0-abfa-ca6ee7df3ccd",
                "language": "sql"
            },
            "outputs": [],
            "execution_count": null
        },
        {
            "cell_type": "markdown",
            "source": [
                "**Direct New Booking Pipeline Coverage for Q3 2023 by Vertical**\n",
                "\n",
                "_Shows the average ACV for Q3 2023 Pipeline Coverage by Vertical_"
            ],
            "metadata": {
                "azdata_cell_guid": "8515d79f-3c47-4cb5-b25f-80debfb80757"
            },
            "attachments": {}
        },
        {
            "cell_type": "code",
            "source": [
                "/* Direct New Booking Pipeline for Q3 2023 by Vertical */\n",
                "SELECT \n",
                "    ISNULL(a.vertical, 'Other') AS vertical, \n",
                "    ROUND(AVG(o.projected_acv),0) AS avg_projected_acv\n",
                "FROM Opportunities o LEFT JOIN Accounts a ON o.account_id = a.account_id\n",
                "WHERE \n",
                "    o.opportunity_type LIKE 'New Booking%' \n",
                "    AND o.customer_type = 'Direct' \n",
                "    AND o.stage <> 'Closed - Won' \n",
                "    AND o.stage <> 'Closed - Lost' \n",
                "    AND DATEPART(QUARTER, o.close_date) = 3 \n",
                "    AND YEAR(o.close_date) = 2023\n",
                "GROUP BY a.vertical\n",
                "ORDER BY avg_projected_acv DESC"
            ],
            "metadata": {
                "azdata_cell_guid": "2aa22131-6c0b-4678-80d8-bdfe6cb68fc2",
                "language": "sql",
                "tags": []
            },
            "outputs": [],
            "execution_count": null
        },
        {
            "cell_type": "markdown",
            "source": [
                "**Direct New Booking Pipeline Coverage for Q3 2023 by Expected Service Tier**\n",
                "\n",
                "_Shows the average ACV for Q3 2023 Pipeline Coverage by EST_"
            ],
            "metadata": {
                "azdata_cell_guid": "44c3e5f6-7903-4706-a995-34a08f137b8a"
            },
            "attachments": {}
        },
        {
            "cell_type": "code",
            "source": [
                "/* Avg ACV for Q3 2023 Pipeline Coverage by EST */\n",
                "SELECT \n",
                "    ISNULL(a.expected_service_tier, 'Other') AS EST, \n",
                "    ROUND(AVG(o.projected_acv),0) AS avg_projected_acv\n",
                "FROM Opportunities o LEFT JOIN Accounts a ON o.account_id = a.account_id\n",
                "WHERE \n",
                "    o.opportunity_type LIKE 'New Booking%' \n",
                "    AND o.customer_type = 'Direct' \n",
                "    AND o.stage <> 'Closed - Won' \n",
                "    AND o.stage <> 'Closed - Lost' \n",
                "    AND DATEPART(QUARTER, o.close_date) = 3 \n",
                "    AND YEAR(o.close_date) = 2023\n",
                "GROUP BY a.expected_service_tier\n",
                "ORDER BY a.expected_service_tier"
            ],
            "metadata": {
                "azdata_cell_guid": "efa99ce2-2d67-4ab5-aaaf-308c23b19a3b",
                "language": "sql"
            },
            "outputs": [],
            "execution_count": null
        },
        {
            "cell_type": "markdown",
            "source": [
                "**Total Direct New Booking Deals in Current Year**\n",
                "\n",
                "_Shows the sum of the average contract value for each deal that was booked, the number of deals, and the account names associated with the deals in current year (2023) so far_"
            ],
            "metadata": {
                "azdata_cell_guid": "4fb892f8-1f83-4385-a5ad-ac23cee295e9"
            },
            "attachments": {}
        },
        {
            "cell_type": "code",
            "source": [
                "/* shows the sum of ACV for each deal and the number of deals */\n",
                "SELECT \n",
                "    COUNT(opportunity_id) AS num_deals, \n",
                "    ROUND(SUM(projected_acv),0) AS direct_new_bookings\n",
                "FROM Opportunities\n",
                "WHERE \n",
                "    opportunity_type LIKE 'New Booking%' \n",
                "    AND customer_type = 'Direct' \n",
                "    AND stage = 'Closed - Won' \n",
                "    AND YEAR(close_date) = YEAR(CURRENT_TIMESTAMP)\n",
                "\n",
                "/* shows the account names for the opportunities that were closed in current year (2023) */\n",
                "SELECT a.account_name, projected_acv AS ACV\n",
                "FROM Opportunities o LEFT JOIN Accounts a ON o.account_id = a.account_id\n",
                "WHERE \n",
                "    opportunity_type LIKE 'New Booking%' \n",
                "    AND customer_type = 'Direct' \n",
                "    AND stage = 'Closed - Won' \n",
                "    AND YEAR(close_date) = YEAR(CURRENT_TIMESTAMP)"
            ],
            "metadata": {
                "azdata_cell_guid": "aaf8a346-db0c-4544-947c-c76d5726ef25",
                "language": "sql"
            },
            "outputs": [],
            "execution_count": null
        },
        {
            "cell_type": "markdown",
            "source": [
                "**Total Pipeline Coverage for Future Quarters**\n",
                "\n",
                "_Shows the sum of pipeline coverage for direct new booking opportunities for all future quarters (excluding the current quarter) and then splits it up by Vertical_"
            ],
            "metadata": {
                "azdata_cell_guid": "45159f69-9a62-44c2-bf5f-bb17f978ad10"
            },
            "attachments": {}
        },
        {
            "cell_type": "code",
            "source": [
                "/* total pipeline coverage for future quarters */\n",
                "SELECT SUM(projected_acv)\n",
                "FROM Opportunities\n",
                "WHERE \n",
                "    opportunity_type LIKE 'New Booking%' \n",
                "    AND customer_type = 'Direct' \n",
                "    AND stage <> 'Closed - Won' \n",
                "    AND stage <> 'Closed - Lost' \n",
                "    AND (YEAR(close_date) <> YEAR(CURRENT_TIMESTAMP) OR DATEPART(QUARTER, close_date) <> DATEPART(QUARTER, CURRENT_TIMESTAMP))\n",
                "\n",
                "/* count of opportunities, total pipeline coverage, and avg projected acv for future quarters by vertical */\n",
                "SELECT \n",
                "    ISNULL(a.vertical, 'Other') AS vertical,\n",
                "    COUNT(o.opportunity_id) AS num_opps,\n",
                "    SUM(o.projected_acv) AS sum_proj_acv, \n",
                "    AVG(o.projected_acv) AS avg_proj_acv\n",
                "FROM Opportunities o LEFT JOIN Accounts a ON o.account_id = a.account_id\n",
                "WHERE \n",
                "    o.opportunity_type LIKE 'New Booking%' \n",
                "    AND o.customer_type = 'Direct' \n",
                "    AND o.stage <> 'Closed - Won' \n",
                "    AND o.stage <> 'Closed - Lost' \n",
                "    AND (YEAR(o.close_date) <> YEAR(CURRENT_TIMESTAMP) OR DATEPART(QUARTER, o.close_date) <> DATEPART(QUARTER, CURRENT_TIMESTAMP))\n",
                "GROUP BY a.vertical\n",
                "ORDER BY sum_proj_acv DESC"
            ],
            "metadata": {
                "azdata_cell_guid": "cb462f8e-b632-4b06-a70a-12314620808e",
                "language": "sql",
                "tags": []
            },
            "outputs": [],
            "execution_count": null
        },
        {
            "cell_type": "markdown",
            "source": [
                "**Pipeline Coverage by Quarter**\n",
                "\n",
                "_All pipeline coverage by close quarter_"
            ],
            "metadata": {
                "azdata_cell_guid": "d54a46da-fb3f-4bb9-85bb-9da5bb16d146"
            },
            "attachments": {}
        },
        {
            "cell_type": "code",
            "source": [
                "/* Pipeline Coverage by Quarter */\n",
                "SELECT \n",
                "    YEAR(close_date) AS close_year,\n",
                "    DATEPART(QUARTER, close_date) AS close_quarter,\n",
                "    COUNT(opportunity_id) AS num_opps, \n",
                "    SUM(projected_acv) AS sum_proj_acv, \n",
                "    AVG(projected_acv) AS avg_proj_acv\n",
                "FROM Opportunities\n",
                "WHERE \n",
                "    opportunity_type LIKE 'New Booking%' \n",
                "    AND customer_type = 'Direct' \n",
                "    AND stage <> 'Closed - Won' \n",
                "    AND stage <> 'Closed - Lost'\n",
                "GROUP BY DATEPART(QUARTER, close_date), YEAR(close_date)"
            ],
            "metadata": {
                "azdata_cell_guid": "0ee2a635-67dc-40c8-ae6d-468f51d72f5b",
                "language": "sql",
                "tags": []
            },
            "outputs": [],
            "execution_count": null
        },
        {
            "cell_type": "markdown",
            "source": [
                "## **Marketing Qualified Leads (MQLs)**\n",
                "\n",
                "_Shows the number of MQLs split up in different views_\n",
                "\n",
                "**Total MQLs**\n",
                "\n",
                "_Shows the number of MQLs grouped by week number and shows the week dates for a specific week number_"
            ],
            "metadata": {
                "azdata_cell_guid": "f712e49c-58d6-4215-b090-7b6a788f4619"
            },
            "attachments": {}
        },
        {
            "cell_type": "code",
            "source": [
                "/* Total Number of MQLs */\n",
                "SELECT COUNT(*) AS total_mqls\n",
                "FROM Accounts\n",
                "WHERE most_recent_mql_date IS NOT NULL\n",
                "\n",
                "/* MQLs by Week Number */\n",
                "SELECT \n",
                "    DATEPART(WEEK, most_recent_mql_date) AS week_num,\n",
                "    COUNT(*) AS total_mqls\n",
                "FROM Accounts\n",
                "WHERE most_recent_mql_date IS NOT NULL\n",
                "GROUP BY DATEPART(WEEK, most_recent_mql_date)\n",
                "ORDER BY week_num"
            ],
            "metadata": {
                "azdata_cell_guid": "b5623cf9-fd98-4729-85bf-49c8fd12c35f",
                "language": "sql",
                "tags": []
            },
            "outputs": [],
            "execution_count": null
        },
        {
            "cell_type": "markdown",
            "source": [
                "**Total MQLs by Week**\n",
                "\n",
                "_Show the number of MQLs grouped by the week number and show the start and end date for the week (note: shows only the range of dates in which there was an MQL)_"
            ],
            "metadata": {
                "language": "sql",
                "azdata_cell_guid": "c798faef-7c92-4ca4-862d-6c0a3b4b7f82"
            },
            "attachments": {}
        },
        {
            "cell_type": "code",
            "source": [
                "/* Create a CTE with a list of week numbers and their start and end dates */\n",
                "WITH WeekData AS (\n",
                "    SELECT DISTINCT DATEPART(WEEK, most_recent_mql_date) AS WeekNumber,\n",
                "           MIN(most_recent_mql_date) AS StartDate,\n",
                "           MAX(most_recent_mql_date) AS EndDate\n",
                "    FROM Accounts\n",
                "    GROUP BY DATEPART(WEEK, most_recent_mql_date)\n",
                ")\n",
                "\n",
                "/* Join the WeekData CTE with Accounts table and calculate the count */\n",
                "SELECT\n",
                "    WeekData.WeekNumber,\n",
                "    WeekData.StartDate,\n",
                "    WeekData.EndDate,\n",
                "    COUNT(most_recent_mql_date) AS MQLCount\n",
                "FROM WeekData\n",
                "JOIN Accounts ON DATEPART(WEEK, Accounts.most_recent_mql_date) = WeekData.WeekNumber\n",
                "WHERE most_recent_mql_date IS NOT NULL\n",
                "GROUP BY WeekData.WeekNumber, WeekData.StartDate, WeekData.EndDate\n",
                "ORDER BY StartDate, WeekData.WeekNumber;"
            ],
            "metadata": {
                "language": "sql",
                "azdata_cell_guid": "c6b2e17c-6483-4ba2-91b5-8b0318421577"
            },
            "outputs": [],
            "execution_count": null
        },
        {
            "cell_type": "markdown",
            "source": [
                "**MQLs by Year & Quarter**\n",
                "\n",
                "_Shows the number of MQLs for each quarter in each year_"
            ],
            "metadata": {
                "azdata_cell_guid": "11b07f62-af20-43b6-ac7a-858eeccc4877"
            },
            "attachments": {}
        },
        {
            "cell_type": "code",
            "source": [
                "/* MQLs by Year and Quarter */\n",
                "SELECT\n",
                "    DATEPART(YEAR, most_recent_mql_date) AS year,\n",
                "    DATEPART(QUARTER, most_recent_mql_date) AS quarter,\n",
                "    COUNT(most_recent_mql_date)\n",
                "FROM Accounts\n",
                "GROUP BY \n",
                "    DATEPART(YEAR, most_recent_mql_date), \n",
                "    DATEPART(QUARTER, most_recent_mql_date)\n",
                "ORDER BY year, quarter"
            ],
            "metadata": {
                "azdata_cell_guid": "579d8501-bbef-404e-bfd1-f822afa46778",
                "language": "sql"
            },
            "outputs": [],
            "execution_count": null
        },
        {
            "cell_type": "markdown",
            "source": [
                "**MQLs QTD by Account Rank**"
            ],
            "metadata": {
                "azdata_cell_guid": "75935f30-4e8d-408c-bb11-21893872b495"
            },
            "attachments": {}
        },
        {
            "cell_type": "code",
            "source": [
                "/* MQLs QTD by Account Rank */\n",
                "SELECT\n",
                "    account_rank, \n",
                "    COUNT(most_recent_mql_date)\n",
                "FROM Accounts\n",
                "WHERE DATEPART(QUARTER, most_recent_mql_date) = DATEPART(QUARTER, CURRENT_TIMESTAMP)\n",
                "GROUP BY account_rank"
            ],
            "metadata": {
                "azdata_cell_guid": "79e3a4ac-df1d-4136-808e-ccc108fdea4f",
                "language": "sql",
                "tags": []
            },
            "outputs": [],
            "execution_count": null
        },
        {
            "cell_type": "markdown",
            "source": [
                "**\\# of MQLs for Specified Week & Avg MQLs Prior 4 Weeks**\n",
                "\n",
                "_Shows the # of MQLs for specified week and then compares to the average # of MQLs from the past 4 weeks_"
            ],
            "metadata": {
                "language": "sql",
                "azdata_cell_guid": "69fbc783-b8be-4ae4-9b32-5deac6c203cf"
            },
            "attachments": {}
        },
        {
            "cell_type": "code",
            "source": [
                "/* Put in the date you would like to check */\n",
                "DECLARE @GivenDate DATE = '06-23-2023';\n",
                "\n",
                "/* Calculate week start (Sunday) and end (Saturday) dates for the given date */\n",
                "DECLARE @WeekStartDate DATE = DATEADD(DAY, 1 - DATEPART(WEEKDAY, @GivenDate), @GivenDate);\n",
                "DECLARE @WeekEndDate DATE = DATEADD(DAY, 7 - DATEPART(WEEKDAY, @GivenDate), @GivenDate);\n",
                "\n",
                "/* Show the calculated week start and end dates */\n",
                "SELECT \n",
                "    @GivenDate AS GivenDate, \n",
                "    @WeekStartDate AS WeekStartDate, \n",
                "    @WeekEndDate AS WeekEndDate,\n",
                "    COUNT(most_recent_mql_date) AS mqls_specified_week\n",
                "FROM Accounts\n",
                "WHERE most_recent_mql_date >= @WeekStartDate AND most_recent_mql_date <= @WeekEndDate\n",
                "\n",
                "/* Show the Avg number of MQLs for 4 weeks prior to the specified week */\n",
                "SELECT\n",
                "    AVG(MQLCount) AS AvgMQLsPerWeek\n",
                "FROM (\n",
                "    SELECT\n",
                "        DATEPART(WEEK, most_recent_mql_date) AS WeekNumber,\n",
                "        SUM(CASE WHEN most_recent_mql_date IS NOT NULL THEN 1 ELSE 0 END) AS MQLCount\n",
                "    FROM\n",
                "        Accounts\n",
                "    WHERE\n",
                "        DATEDIFF(WEEK, most_recent_mql_date, @GivenDate) BETWEEN 1 AND 4\n",
                "    GROUP BY\n",
                "        DATEPART(WEEK, most_recent_mql_date)\n",
                ") AS WeeklyMQLs;"
            ],
            "metadata": {
                "language": "sql",
                "azdata_cell_guid": "2da6c2d9-8bad-4fab-a09c-04bcc6e5730c"
            },
            "outputs": [],
            "execution_count": null
        },
        {
            "cell_type": "markdown",
            "source": [
                "## **Events**\n",
                "\n",
                "**Total Discos and Total Demos**\n",
                "\n",
                "_Getting a sense of the total discos and demos split up in various ways_"
            ],
            "metadata": {
                "azdata_cell_guid": "a7538399-2fcf-4f32-80ff-8d31345a9dbb"
            },
            "attachments": {}
        },
        {
            "cell_type": "code",
            "source": [
                "/* How many total discos and total demos have been scheduled? */\n",
                "SELECT\n",
                "    SUM(CASE WHEN event_type = 'Meeting - Disco' THEN 1 ELSE 0 END) AS NumberOfDiscos,\n",
                "    SUM(CASE WHEN event_type = 'Meeting - Demo' THEN 1 ELSE 0 END) AS NumberOfDemos\n",
                "FROM\n",
                "    Events;\n",
                "\n",
                "/* How many total discos and total demos have been completed? */\n",
                "SELECT\n",
                "    SUM(CASE WHEN event_type = 'Meeting - Disco' THEN 1 ELSE 0 END) AS NumberOfDiscos,\n",
                "    SUM(CASE WHEN event_type = 'Meeting - Demo' THEN 1 ELSE 0 END) AS NumberOfDemos\n",
                "FROM\n",
                "    Events\n",
                "WHERE event_status = 'Complete';"
            ],
            "metadata": {
                "azdata_cell_guid": "a676408a-d640-43db-adec-99c858095d9c",
                "language": "sql"
            },
            "outputs": [],
            "execution_count": null
        },
        {
            "cell_type": "markdown",
            "source": [
                "**Total Discos by Year & Quarter**"
            ],
            "metadata": {
                "azdata_cell_guid": "b6902a0e-0363-4bb0-b8ab-133cc658c609"
            },
            "attachments": {}
        },
        {
            "cell_type": "code",
            "source": [
                "/* How many completed discos by year and quarter? */\n",
                "SELECT\n",
                "    DATEPART(YEAR, completed_date) AS year,\n",
                "    DATEPART(QUARTER, completed_date) AS quarter,\n",
                "    COUNT(completed_date) DiscosCompleted\n",
                "FROM Events\n",
                "WHERE event_type = 'Meeting - Disco'\n",
                "GROUP BY \n",
                "    DATEPART(YEAR, completed_date), \n",
                "    DATEPART(QUARTER, completed_date)\n",
                "ORDER BY year, quarter"
            ],
            "metadata": {
                "azdata_cell_guid": "4648b4a8-d302-4c5f-9eea-81bc2eab0ec2",
                "language": "sql"
            },
            "outputs": [],
            "execution_count": null
        },
        {
            "cell_type": "markdown",
            "source": [
                "**Discos QTD by Expected Service Tier**"
            ],
            "metadata": {
                "azdata_cell_guid": "b1312bfb-7c31-47b7-8cc3-79b17922fbb3"
            },
            "attachments": {}
        },
        {
            "cell_type": "code",
            "source": [
                "/* Discos QTD by EST */\n",
                "SELECT\n",
                "    a.expected_service_tier,\n",
                "    COUNT(e.completed_date) AS DiscosCompleted\n",
                "FROM Events e LEFT JOIN Accounts a ON e.account_id = a.account_id\n",
                "WHERE \n",
                "    e.event_type = 'Meeting - Disco'\n",
                "    AND DATEPART(QUARTER, e.completed_date) = DATEPART(QUARTER, CURRENT_TIMESTAMP)\n",
                "    AND DATEPART(YEAR, e.completed_date) = DATEPART(YEAR, e.completed_date)\n",
                "GROUP BY a.expected_service_tier\n",
                "ORDER BY a.expected_service_tier"
            ],
            "metadata": {
                "azdata_cell_guid": "95df6b59-6a85-4096-879e-f09a005bc7d1",
                "language": "sql",
                "tags": []
            },
            "outputs": [],
            "execution_count": null
        },
        {
            "cell_type": "markdown",
            "source": [
                "**Accounts with 2+ Discos In Current Year**"
            ],
            "metadata": {
                "language": "sql",
                "azdata_cell_guid": "cd60dccc-5aa0-404a-869c-fb6c1c517f2c"
            },
            "attachments": {}
        },
        {
            "cell_type": "code",
            "source": [
                "/* Accounts with 2+ Discos in CY */\n",
                "SELECT a.account_name, a.expected_service_tier, COUNT(e.event_id) NumEvents\n",
                "FROM Accounts a INNER JOIN Events e ON a.account_id = e.account_id\n",
                "WHERE\n",
                "    e.event_type = 'Meeting - Disco' \n",
                "    AND e.event_status = 'Complete'\n",
                "    AND DATEPART(YEAR, e.completed_date) = DATEPART(YEAR, CURRENT_TIMESTAMP)\n",
                "GROUP BY a.account_name, a.expected_service_tier\n",
                "HAVING COUNT(e.event_id) >= 2"
            ],
            "metadata": {
                "language": "sql",
                "azdata_cell_guid": "d04dce33-4eb6-422a-9b75-10b2db7a93c8"
            },
            "outputs": [],
            "execution_count": null
        },
        {
            "cell_type": "markdown",
            "source": [
                "**Accounts with Events and Opportunities Created After Event**"
            ],
            "metadata": {
                "azdata_cell_guid": "cb0f817b-8ab7-40ea-9618-1b942b396007"
            },
            "attachments": {}
        },
        {
            "cell_type": "code",
            "source": [
                "/* Accounts with events that had an opportunity created after the event was complete */\n",
                "SELECT DISTINCT\n",
                "    a.account_id,\n",
                "    a.account_name,\n",
                "    o.opportunity_name\n",
                "    o.projected_acv,\n",
                "    o.stage\n",
                "FROM\n",
                "    Accounts a\n",
                "INNER JOIN\n",
                "    Events e ON a.account_id = e.account_id\n",
                "INNER JOIN\n",
                "    Opportunities o ON a.account_id = o.account_id\n",
                "WHERE\n",
                "    event_status = 'Complete'\n",
                "    AND o.created_date >= e.completed_date;"
            ],
            "metadata": {
                "azdata_cell_guid": "01d0995e-1673-4461-b64b-fcef7bd4af1f",
                "language": "sql"
            },
            "outputs": [],
            "execution_count": null
        }
    ]
}